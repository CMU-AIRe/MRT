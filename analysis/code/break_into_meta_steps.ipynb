{
 "cells": [
  {
   "cell_type": "code",
   "execution_count": 1,
   "metadata": {},
   "outputs": [],
   "source": [
    "import pickle, json\n",
    "import seaborn as sns\n",
    "import matplotlib.pyplot as plt\n",
    "import re, os\n",
    "from collections import defaultdict\n",
    "from tqdm import tqdm"
   ]
  },
  {
   "cell_type": "code",
   "execution_count": 44,
   "metadata": {},
   "outputs": [],
   "source": [
    "output_dir = \"/home/myang4/mrt-analysis/outputs/r1/pass_at_k\"\n",
    "max_steps = 49 # maximum number of steps to break into\n",
    "group_size = 5"
   ]
  },
  {
   "cell_type": "markdown",
   "metadata": {},
   "source": [
    "### Merge data"
   ]
  },
  {
   "cell_type": "code",
   "execution_count": null,
   "metadata": {},
   "outputs": [],
   "source": [
    "data = {}\n",
    "for start in range(0, 40, 10):\n",
    "    with open(os.path.join(output_dir, f'pass_at_k_{start}_{start+10}.pkl'), 'rb') as f:\n",
    "        data |= pickle.load(f)\n",
    "\n",
    "\n",
    "with open(os.path.join(output_dir, \"pass_at_k.pkl\"), \"wb\") as f:\n",
    "    pickle.dump(data, f)"
   ]
  },
  {
   "cell_type": "markdown",
   "metadata": {},
   "source": [
    "### Load data"
   ]
  },
  {
   "cell_type": "code",
   "execution_count": 46,
   "metadata": {},
   "outputs": [],
   "source": [
    "with open(os.path.join(output_dir, \"pass_at_k.pkl\"), \"rb\") as f:\n",
    "    data = pickle.load(f)"
   ]
  },
  {
   "cell_type": "markdown",
   "metadata": {},
   "source": [
    "### Break into meta steps"
   ]
  },
  {
   "cell_type": "code",
   "execution_count": 47,
   "metadata": {},
   "outputs": [],
   "source": [
    "def break_into_meta_steps(data):\n",
    "    k_meta_steps = defaultdict(list)\n",
    "\n",
    "    for n in tqdm(range(len(data))):\n",
    "        for text in data[n]:\n",
    "            meta_steps = []\n",
    "            \n",
    "            steps = text.split('\\n\\n')\n",
    "            prev_i = 0\n",
    "            num_s_steps = max_steps\n",
    "            for i, step in enumerate(steps):\n",
    "                if num_s_steps == 0:\n",
    "                    break\n",
    "\n",
    "                if step.startswith(\"Wait\") or step.startswith(\"But wait\") or step.startswith(\"Alternatively\") or step.startswith(\"Is there another way to think about this?\") or step.startswith(\"But let me double-check\") or step.startswith(\"But hold on\"):\n",
    "                    \n",
    "                    if prev_i == i or prev_i == i-1 or prev_i == i-2:\n",
    "                        continue\n",
    "                    \n",
    "                    elif prev_i < i:\n",
    "                        meta_step = \"\\n\\n\".join(steps[prev_i:i]).rstrip('\\n')\n",
    "                        meta_steps.append(meta_step)\n",
    "                        num_s_steps -= 1\n",
    "                    \n",
    "                    prev_i = i\n",
    "\n",
    "            if prev_i < len(steps):\n",
    "                meta_step = \"\\n\\n\".join(steps[prev_i:]).rstrip('\\n')\n",
    "                meta_steps.append(meta_step)\n",
    "            \n",
    "            k_meta_steps[n].append(meta_steps)\n",
    "    \n",
    "    return k_meta_steps"
   ]
  },
  {
   "cell_type": "code",
   "execution_count": 48,
   "metadata": {},
   "outputs": [
    {
     "name": "stderr",
     "output_type": "stream",
     "text": [
      "100%|██████████| 40/40 [00:00<00:00, 2084.44it/s]"
     ]
    },
    {
     "name": "stderr",
     "output_type": "stream",
     "text": [
      "\n"
     ]
    }
   ],
   "source": [
    "k_meta_steps = break_into_meta_steps(data)"
   ]
  },
  {
   "cell_type": "markdown",
   "metadata": {},
   "source": [
    "### Plot step length distributions"
   ]
  },
  {
   "cell_type": "code",
   "execution_count": 49,
   "metadata": {},
   "outputs": [],
   "source": [
    "def plot_step_lengths(k_meta_steps, binwidth=5):\n",
    "    steps_dist = []\n",
    "\n",
    "    for n, k_tries in k_meta_steps.items():\n",
    "        for entry in k_tries:\n",
    "            steps_dist.append(len(entry))\n",
    "\n",
    "    sns.histplot(steps_dist, binwidth=binwidth, stat='count')\n",
    "    plt.show()"
   ]
  },
  {
   "cell_type": "code",
   "execution_count": 50,
   "metadata": {},
   "outputs": [
    {
     "data": {
      "image/png": "[encoded data removed]",
      "text/plain": [
       "<Figure size 640x480 with 1 Axes>"
      ]
     },
     "metadata": {},
     "output_type": "display_data"
    }
   ],
   "source": [
    "plot_step_lengths(k_meta_steps)"
   ]
  },
  {
   "cell_type": "markdown",
   "metadata": {},
   "source": [
    "### Merge into larger meta steps"
   ]
  },
  {
   "cell_type": "code",
   "execution_count": 51,
   "metadata": {},
   "outputs": [],
   "source": [
    "def merge_meta_steps(k_meta_steps):\n",
    "    meta_steps = defaultdict(list)\n",
    "\n",
    "    for n in k_meta_steps:\n",
    "        for k in range(len(k_meta_steps[n])):\n",
    "            new_k_meta_steps = []\n",
    "            for i in range(0, len(k_meta_steps[n][k]), group_size):\n",
    "                concatenated_meta_step = \"\\n\\n\".join(k_meta_steps[n][k][i:i+group_size])\n",
    "                new_k_meta_steps.append(concatenated_meta_step)\n",
    "            meta_steps[n].append(new_k_meta_steps)\n",
    "    \n",
    "    return meta_steps"
   ]
  },
  {
   "cell_type": "code",
   "execution_count": 52,
   "metadata": {},
   "outputs": [],
   "source": [
    "meta_steps = {}\n",
    "meta_steps = merge_meta_steps(k_meta_steps)"
   ]
  },
  {
   "cell_type": "code",
   "execution_count": 53,
   "metadata": {},
   "outputs": [
    {
     "data": {
      "image/png": "[encoded data removed]",
      "text/plain": [
       "<Figure size 640x480 with 1 Axes>"
      ]
     },
     "metadata": {},
     "output_type": "display_data"
    }
   ],
   "source": [
    "plot_step_lengths(meta_steps, binwidth=1)"
   ]
  },
  {
   "cell_type": "markdown",
   "metadata": {},
   "source": [
    "### Save data"
   ]
  },
  {
   "cell_type": "code",
   "execution_count": 55,
   "metadata": {},
   "outputs": [],
   "source": [
    "with open(os.path.join(output_dir, \"prefixes.pkl\"), \"wb\") as f:\n",
    "    pickle.dump(meta_steps, f)"
   ]
  }
 ],
 "metadata": {
  "kernelspec": {
   "display_name": "vllm3",
   "language": "python",
   "name": "python3"
  },
  "language_info": {
   "codemirror_mode": {
    "name": "ipython",
    "version": 3
   },
   "file_extension": ".py",
   "mimetype": "text/x-python",
   "name": "python",
   "nbconvert_exporter": "python",
   "pygments_lexer": "ipython3",
   "version": "3.12.8"
  }
 },
 "nbformat": 4,
 "nbformat_minor": 2
}
